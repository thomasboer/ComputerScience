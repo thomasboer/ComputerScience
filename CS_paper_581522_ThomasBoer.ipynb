{
 "cells": [
  {
   "cell_type": "markdown",
   "metadata": {},
   "source": [
    "# Importing data"
   ]
  },
  {
   "cell_type": "code",
   "execution_count": 1,
   "metadata": {},
   "outputs": [],
   "source": [
    "#Import packages\n",
    "import pandas as pd\n",
    "import json\n",
    "import numpy as np\n",
    "import re\n",
    "from sklearn.utils import resample\n",
    "import matplotlib.pyplot as plt\n",
    "from strsimpy.qgram import QGram\n",
    "from sklearn.cluster import AgglomerativeClustering\n",
    "\n",
    "from pytextdist.vector_similarity import qgram_similarity\n",
    "from pytextdist.vector_similarity import cosine_similarity\n",
    "from strsimpy.normalized_levenshtein import NormalizedLevenshtein\n",
    "\n",
    "#Import data\n",
    "data = json.load(open('TVs-all-merged.json')) \n",
    "\n",
    "#Create list of different products in dictionaries\n",
    "products = []\n",
    "for keys in data.keys():\n",
    "    for product in data[str(keys)]:\n",
    "        products.append(product)"
   ]
  },
  {
   "cell_type": "markdown",
   "metadata": {},
   "source": [
    "### Create train and test data"
   ]
  },
  {
   "cell_type": "code",
   "execution_count": 2,
   "metadata": {},
   "outputs": [],
   "source": [
    "def bootstrap():\n",
    "    data_length = list(range(0,1624))\n",
    "\n",
    "    bootstrap_train = resample(data_length, replace=True, n_samples=len(data_length)) #1624\n",
    "    bootstrap_test = [x for x in data_length if x not in bootstrap_train]\n",
    "    return bootstrap_train, bootstrap_test\n",
    "\n",
    "\n",
    "#Need to use 5 bootstraps"
   ]
  },
  {
   "cell_type": "code",
   "execution_count": 3,
   "metadata": {},
   "outputs": [],
   "source": [
    "def unique_values(data: list):\n",
    "    unique_values = []\n",
    "    for x in data:\n",
    "        if x not in unique_values:\n",
    "            unique_values.append(x)\n",
    "    return unique_values"
   ]
  },
  {
   "cell_type": "markdown",
   "metadata": {},
   "source": [
    "### Assign train and test data"
   ]
  },
  {
   "cell_type": "code",
   "execution_count": 4,
   "metadata": {},
   "outputs": [],
   "source": [
    "def products_train(train_data):\n",
    "    products_train = []\n",
    "    for product_index in train_data:\n",
    "        products_train.append(products[product_index])\n",
    "    return products_train\n",
    "\n",
    "def products_test(test_data):\n",
    "    products_test = []\n",
    "    for product_index in test_data:\n",
    "        products_test.append(products[product_index])\n",
    "    return products_test"
   ]
  },
  {
   "cell_type": "markdown",
   "metadata": {},
   "source": [
    "### Get product titles"
   ]
  },
  {
   "cell_type": "code",
   "execution_count": 5,
   "metadata": {},
   "outputs": [],
   "source": [
    "def get_product_titles(products):\n",
    "    get_product_titles = []\n",
    "    for product in range(0, len(products)):\n",
    "        get_product_titles.append(products[product]['title'])\n",
    "        shop_in_titles = ['Class ','Refurbished']\n",
    "        for shoptitle in shop_in_titles:\n",
    "            for title in range(0,len(get_product_titles)):\n",
    "                get_product_titles[title] = get_product_titles[title].replace(shoptitle, '')\n",
    "    return get_product_titles\n",
    "# def get_product_titles(products):\n",
    "#     get_product_titles = []\n",
    "#     for product in range(0, len(products)):\n",
    "#         get_product_titles.append(products[product]['title'])\n",
    "#     return get_product_titles"
   ]
  },
  {
   "cell_type": "markdown",
   "metadata": {},
   "source": [
    "### Clean titles wrt inch and hz"
   ]
  },
  {
   "cell_type": "code",
   "execution_count": 6,
   "metadata": {},
   "outputs": [],
   "source": [
    "def title_cleaning(product_titles):\n",
    "    for index in range(0, len(product_titles)):\n",
    "        for replacement in ['Inch', 'inches', '\"', '-inch', ' inch', 'inch']:\n",
    "            product_titles[index] = product_titles[index].replace(str(replacement), 'inch')    \n",
    "    for index in range(0, len(product_titles)):\n",
    "        for replacement in ['Hertz', 'hertz', 'Hz', 'HZ', ' hz', '-hz', 'hz']:\n",
    "            product_titles[index] = product_titles[index].replace(str(replacement), 'hz')\n",
    "    return product_titles"
   ]
  },
  {
   "cell_type": "markdown",
   "metadata": {},
   "source": [
    "### Get the first model word from all titles"
   ]
  },
  {
   "cell_type": "code",
   "execution_count": 7,
   "metadata": {},
   "outputs": [],
   "source": [
    "#Adaption: Skip some model words such as numeric modelwords (isdecimal())\n",
    "\n",
    "def model_words_unique(list_with_strings):\n",
    "    model_words = []\n",
    "    for string in list_with_strings:\n",
    "        model_words.append(re.findall('([a-zA-Z0-9]*(([0-9]+[ˆ0-9, ]+)|([ˆ0-9, ]+[0-9]+))[a-zA-Z0-9]*)', string))\n",
    "\n",
    "    list_first_mw = []\n",
    "    for model_word in model_words:\n",
    "        for tupel in model_word:\n",
    "            list_first_mw.append(tupel[0])\n",
    "        \n",
    "    unique_model_words = []\n",
    "    for string in list_first_mw:\n",
    "        if string not in unique_model_words:\n",
    "            unique_model_words.append(string)\n",
    "    return unique_model_words"
   ]
  },
  {
   "cell_type": "markdown",
   "metadata": {},
   "source": [
    "### Binary_vector - Create a dataframe that contains a 1 if the model word is in a title"
   ]
  },
  {
   "cell_type": "code",
   "execution_count": 8,
   "metadata": {},
   "outputs": [],
   "source": [
    "def model_word_in_title(model_word_list, title_list):\n",
    "    model_word_pertitle = []\n",
    "    for title in title_list:\n",
    "        temporary_list = []\n",
    "        for model_word in model_word_list:\n",
    "            if model_word in title:\n",
    "                temporary_list.append(1)\n",
    "            else: \n",
    "                temporary_list.append(0)\n",
    "        model_word_pertitle.append(temporary_list)\n",
    "    return pd.DataFrame(model_word_pertitle, index=title_list,columns=model_word_list).T"
   ]
  },
  {
   "cell_type": "markdown",
   "metadata": {},
   "source": [
    "### MinHashing"
   ]
  },
  {
   "cell_type": "code",
   "execution_count": 9,
   "metadata": {},
   "outputs": [],
   "source": [
    "def minhash(binary_vector, n):\n",
    "    df = binary_vector.reset_index()\n",
    "    df = df.drop(columns=['index'])\n",
    "\n",
    "    df_minhash = df[0:0]\n",
    "    first_list = []\n",
    "    for permutation in range(0, n):\n",
    "        first_list = []\n",
    "        df_shuffled = df.iloc[np.random.permutation(df.index)].reset_index(drop=True)\n",
    "        for column in range(0, len(df_minhash.columns)):\n",
    "            first_list.append((df_shuffled.iloc[:, column] == 1).argmax())\n",
    "        df_minhash = df_minhash.append(pd.DataFrame([first_list], columns=df_minhash.columns), ignore_index=True)\n",
    "    return df_minhash"
   ]
  },
  {
   "cell_type": "markdown",
   "metadata": {},
   "source": [
    "### Signature matrix"
   ]
  },
  {
   "cell_type": "code",
   "execution_count": 10,
   "metadata": {},
   "outputs": [],
   "source": [
    "def buckets(df_minhash, r):\n",
    "    i = r\n",
    "    j = 0\n",
    "    k = 0\n",
    "    lijst12 = []\n",
    "    for column in range(0,len(df_minhash.columns)):\n",
    "        lijst13 = []\n",
    "        while j < len(df_minhash)/r:\n",
    "            lijst11 = ''\n",
    "            j= j+1\n",
    "            lijst11 = lijst11 + (\" \".join(str(elem) for elem in df_minhash.values[i-r:i, column]).replace(\" \", \"\"))\n",
    "            i= i+r\n",
    "            lijst13.append(lijst11)\n",
    "        lijst12.append(lijst13)\n",
    "        i = r\n",
    "        j = 0\n",
    "        k = k +1\n",
    "    df_signature_matrix = pd.DataFrame(lijst12).T\n",
    "    return df_signature_matrix"
   ]
  },
  {
   "cell_type": "markdown",
   "metadata": {},
   "source": [
    "### LSH"
   ]
  },
  {
   "cell_type": "code",
   "execution_count": 11,
   "metadata": {},
   "outputs": [],
   "source": [
    "def lsh(df_lsh):\n",
    "    big_list = []\n",
    "    for j in range(0,len(df_lsh.columns)):\n",
    "        test = np.zeros((len(df_lsh.index), len(df_lsh.columns)), bool)\n",
    "        for i in range(0,len(df_lsh.index)):\n",
    "                test[i] = df_lsh.values[i][j]== df_lsh.values[i]\n",
    "        test2 = np.where(test is True,1,test)\n",
    "        test2 = np.where(test2 is False,0,test2)\n",
    "        agg = np.max(test2, axis=0)\n",
    "        big_list.append(agg)\n",
    "    final_LSH = pd.DataFrame(np.row_stack(big_list))\n",
    "    final_LSH = final_LSH.mask(np.tril(np.ones(final_LSH.shape, dtype=np.bool_))).replace(np.nan, 0)    \n",
    "    return final_LSH"
   ]
  },
  {
   "cell_type": "markdown",
   "metadata": {},
   "source": [
    "# # MSM"
   ]
  },
  {
   "cell_type": "code",
   "execution_count": 12,
   "metadata": {},
   "outputs": [],
   "source": [
    "def get_product_shops(products):\n",
    "    get_product_shops = []\n",
    "    for product in range(0, len(products)):\n",
    "        get_product_shops.append(products[product]['shop'])\n",
    "    return get_product_shops"
   ]
  },
  {
   "cell_type": "code",
   "execution_count": 13,
   "metadata": {},
   "outputs": [],
   "source": [
    "def get_product_modelIDs(products):\n",
    "    get_product_modelIDs = []\n",
    "    for product in range(0, len(products)):\n",
    "        get_product_modelIDs.append(products[product]['modelID'])\n",
    "    return get_product_modelIDs"
   ]
  },
  {
   "cell_type": "code",
   "execution_count": 14,
   "metadata": {},
   "outputs": [],
   "source": [
    "def get_features_map(products):\n",
    "    get_features_map = []\n",
    "    for product in range(0, len(products)):\n",
    "        get_features_map.append(products[product]['featuresMap'])\n",
    "    return get_features_map"
   ]
  },
  {
   "cell_type": "code",
   "execution_count": 15,
   "metadata": {},
   "outputs": [],
   "source": [
    "#Obtain all model words - exMW\n",
    "def extract_featuresM_MW(key_value_FM):\n",
    "    \n",
    "    lijst52 = []\n",
    "    for i in range(0,len(key_value_FM)):\n",
    "        lijst51 = []\n",
    "        for value in key_value_FM[i].values():\n",
    "            if re.findall('([a-zA-Z0-9]*(([0-9]+[ˆ0-9, ]+)|([ˆ0-9, ]+[0-9]+))[a-zA-Z0-9]*)', value) != []:\n",
    "                model_word = re.findall('([a-zA-Z0-9]*(([0-9]+[ˆ0-9, ]+)|([ˆ0-9, ]+[0-9]+))[a-zA-Z0-9]*)', value)\n",
    "                lijst51.append(model_word)\n",
    "        lijst52.append(lijst51)\n",
    "\n",
    "    lijst53 = []\n",
    "\n",
    "    for model_word in lijst52:\n",
    "        lijst55 = ''\n",
    "        for word in model_word:\n",
    "            for tupel in word:\n",
    "                lijst55 = lijst55 + tupel[0]\n",
    "        lijst53.append(lijst55)\n",
    "    return lijst53"
   ]
  },
  {
   "cell_type": "code",
   "execution_count": 16,
   "metadata": {},
   "outputs": [],
   "source": [
    "def model_word_in_title_KV(model_word_list, title_list, KV_list_per_product):\n",
    "    model_word_pertitle = []\n",
    "    for i in range(0,len(title_list)):\n",
    "        temporary_list = []\n",
    "        for model_word in model_word_list:\n",
    "            if model_word in title_list[i] or model_word in KV_list_per_product[i]:\n",
    "                temporary_list.append(1)\n",
    "            else: \n",
    "                temporary_list.append(0)\n",
    "        model_word_pertitle.append(temporary_list)\n",
    "    return pd.DataFrame(model_word_pertitle, index=title_list,columns=model_word_list).T"
   ]
  },
  {
   "cell_type": "code",
   "execution_count": 17,
   "metadata": {},
   "outputs": [],
   "source": [
    "def calcQgramSim(a,b,title_list,qgram): #1 is most similar\n",
    "    qgramSim = (len(title_list[a]) + len(title_list[b]) - qgram.distance(title_list[a],title_list[b]))/(len(title_list[a]) + len(title_list[b]))\n",
    "    return qgramSim"
   ]
  },
  {
   "cell_type": "code",
   "execution_count": 18,
   "metadata": {},
   "outputs": [],
   "source": [
    "def MSM_LT(products_totrain,lsh_arr):\n",
    "    shops = get_product_shops(products_totrain)\n",
    "    shops = np.array(shops)      \n",
    "\n",
    "    dist = np.empty((len(shops), len(shops)), float)\n",
    "    dist = shops[None, :] == shops[:, None]\n",
    "    dist = np.where(dist == 1,1000.5,dist)\n",
    "\n",
    "    df_dist = pd.DataFrame(dist)\n",
    "    df_dist\n",
    "\n",
    "    df_title = pd.DataFrame()\n",
    "    title_list = get_product_titles(products_totrain)\n",
    "    df_title['brand'] = range(len(title_list))\n",
    "    df_title['brand'] = df_title['brand'].astype(str)\n",
    "    brands_list = ['Acer','SuperSonic', 'Admiral', 'Admiral Overseas Corporation (AOC)', 'Advent', 'Adyson', 'Asianet Digital LED TV', 'Agath', 'Agrexsione', 'Aiwa', 'Akai', 'Akari', 'Akurra', 'Alba (Harvard)', 'Amplivision', 'Amstrad', 'Andrea Electronics', 'Anitech', 'Apex Digital', 'Arcam', 'Arena', 'Argosy Radiovision', 'Arise India', 'AGA', 'Astor', 'Asuka', 'Atlantic', 'Atwater Television', 'Audar', 'Automatic Radio Manufacturing', 'Audiovox', 'AVEL', 'AVol', 'AWA', 'Bace Television', 'Baird', 'Bang & Olufsen', 'Baumann Meyer', 'Beko', 'BenQ', 'Bell Television', 'BelTek Tv', 'Bharat', 'Beon', 'Binatone', 'BiSA', 'Bitova electronika', 'Blaupunkt', 'BLUE Edge', 'Blue Sky', 'Blue Star', 'Bondstec', 'BOSE', 'BPL india lmt', 'Brandt', 'Brionvega', 'Britannia', 'BrokSonic', 'BSR', 'BTC', 'Bush', 'Calbest Electronics', 'Caixun', 'Capehart Electronics', 'Carrefour', 'Cascade', 'Cathay', 'Cello Electronics', 'Centurion', 'Certified Radio Labs', 'Cenfonix', 'CGE', 'Changhong', 'ChiMei', 'Cimline', 'Citizen', 'Clairetone Electric Corporation', 'Clarivox', 'Clatronic', 'CloudWalker[1]', 'Coby', 'Colonial Radio (Sylvania)', 'Color Electronics Corporation', 'Compal Electronics[2][3]', 'Conar Instruments', 'Condor', 'Conrac (Monitors)', 'Conrac (Germany)', 'Contec', 'Continental Edison', 'Cortron Industries (Hoffman)', 'Cossor', 'Craig', 'Crown', 'Crystal', 'CS Electronics', 'CTC', 'Curtis Mathes Corporation', 'Cybertron', 'Daewoo', 'Dainichi', 'Damro', 'Dansai', 'Dayton', 'De Graaf', 'Decca', 'Deccacolour (UK)', 'Defiant', 'Dell', 'Delmonico International Corporation', 'Diamond Vision', 'Diboss', 'Digihome', 'Dixi', 'Dual', 'Dual Tec', 'Dumont', 'DuMont Laboratories', 'Durabrand', 'Dyanora (India)', 'Dynatron', 'Dynex', 'Edler', 'Electron', 'Electronics Corp. (ECTV India)', 'English Electric', 'English Electric Valve Company', 'EKCO', 'Elbe', 'Electrohome', 'Element', 'Elin', 'Elite', 'Elta', 'Emerson', 'Emerson', 'EMI', 'Erres', 'Expert', 'Farnsworth', 'Ferguson Electronics', 'Ferranti', 'Fidelity Radio', 'Finlandia', 'Finlux (Vestel)', 'FIRST', 'Firstline', 'Fisher Electronics', 'Fleetwood (CONRAC)', 'Flint', 'Formenti', 'Frontech', 'Fujitsu', 'Funai', 'GC', 'Geloso', 'General Electric', 'General Electric Company', 'General Gold', 'Geloso', 'Genexxa', 'GoldStar', 'Goodmans Industries', 'Gorenje', 'GPM', 'Gradiente', 'Graetz', 'Granada', 'Grandin', 'Grundig', 'Haier', 'Hallicrafters', 'Hannspree', 'Hanseatic', 'Hantarex', 'Harvard International', 'Harvey Industries', 'Haver Electric', 'HCM', 'Healing', 'Helkama', 'Helvar', 'Heath Company/Heathkit', 'Hesstar', 'Hinari Domestic Applicanes', 'Hisawa', 'HMV', 'Hisense', 'Hitachi', 'HKC', 'Hoffman Television (Cortron Ind)', 'Horizont', 'Howard Radio (Muntz)', 'Huanyu', 'Hypson', 'Ice', 'Ices', 'Inelec[4]', 'ITS', 'ITT Corporation', 'ITT-KB (UK)', 'ITT-SEL (Germany)', 'Imperial', 'INB', 'Indiana', 'Ingelen', 'Inno Hit', 'Innovex', 'Insignia', 'Interfunk', 'Intervision', 'Isukai', 'IZUMI', 'Jensen Loudspeakers', 'JMB', 'Joyeux', 'Kaisui', 'Kamacrown', 'Kane Electronics Corporation', 'Kapsch', 'Kathrein', 'Kendo', 'Kenmore', 'Kent Television', 'Khind', 'Kingsley', 'KIVI (Ukraine)', 'Kloss Video', 'Kneissel', 'Kogan', 'Kolster-Brandes', 'Konka', 'Korpel', 'Koyoda', 'Kreisler', 'KTC', 'Lanix', 'Le.com', 'Leyco', 'LG', 'Liesenkötter', 'Linsar', 'LLoyds', 'Loewe', 'Luma', 'Luxor', 'M Electronic', 'MTC', 'Magnadyne', 'Magnafon', 'Magnasonic', 'Magnavox', 'Magnavox (subsidiary of Philips)', 'Maneth', 'Marantz', 'Marconiphone', 'Mark', 'Matsui', 'Mattison Electronics', 'McMichael Radio', 'Mediator (brand name owned by Philips)', 'Memorex', 'Micromax', 'Mercury-Pacific', 'Metz', 'Minerva', 'Minoka', 'Mirc Electronics (Onida brand; India)', 'Mitsubishi', 'Mivar', 'Mi TV', 'Mobile360 Tv', 'Motorola', 'Multitech (brand name only)', 'Muntz (Howard Radio)', 'MT Logic (related to Multitech, brand name only)', 'Murphy Radio', 'NASCO ELECTRONICS', 'NEC', 'Neckermann', 'Nelco', 'NEI', 'NEOS', 'NetTV', 'Nikkai', 'Nobliko', 'Nokia', 'Nordmende', 'North American Audio', 'Olympic Radio and Television', 'Oceanic', 'oCosmo', 'OK tv', 'Olevia', 'One', 'OnePlus', 'Onida', 'Onwa', 'Orion (Hungary)', 'Orion (Japan)', 'Osaki', 'Oso', 'Osume', 'Otake', 'Otto Versand', 'Palladium', 'Panama', 'Panasonic (National)', 'Pathe Cinema', 'Pathe Marconi', 'Pausa', 'Perdio', 'Pensonic', 'Peto Scott', 'Philco (Philco-Ford)', 'Philips', 'Philmore Manufacturing', 'Phonola', 'Pilot Radio', 'Pilot Radio Corporation (Jerrold Electronics)', 'Pioneer', 'Planar Systems', 'Polar', 'Polaroid', 'Profilo Holding (brand Telefunken)', 'Profex', 'Prima', 'Privé', 'ProLine', 'ProScan', 'ProTech', 'Pulser (own by Canadian tire)', 'Pye', 'Pyle', 'PyxScape', 'Quasar', 'Quelle', 'Questa', 'R-Line', 'REI', 'Radiola', 'Radiola (France, owned by Philips)', 'RadioMarelli', 'RadioShack', 'Rank Arena', 'Ravenswood', 'Rauland Borg', 'RBM', 'RCA', 'RCA (HKC', 'Realistic', 'Rediffusion', 'Regentone', 'Revox', 'Rex', 'RFT (Stassfurt plant)', 'RGD (Radio Gramaphone Development Company)', 'Roadstar', 'Rolls', 'Rolsen Electronics', 'Rubin', 'SABA', 'Saccs', 'Saisho', 'Salora', 'Salora International', 'Sambers', 'Sampo Corp. of America', 'Samsung', 'Sanabria Television Corporation', 'Sandra', 'Sansui', 'Sanyo', 'SBR', 'Sceptre', 'Schaub Lorenz', 'Schneider Electric', 'Schneider', 'Schneider', 'Sears (Silvertone)', 'SEG', 'SEI', 'Sei-Sinudyne', 'Seiki Digital', 'Selco (India)', 'Sèleco', 'Sentra', 'Setchell Carlson', 'Seura', 'Sharp', 'Airis', 'Shinco', 'Shorai', 'Siarem', 'Siemens', 'Silo Digital', 'Skywalker', 'Silvertone', 'Sinudyne', 'Skyworth', 'Sobell[6][7]', 'Solavox', 'Soniq', 'Sonitron', 'Sonodyne', 'Sonoko', 'Sonolor', 'Sonora', 'Sontec', 'Sony', 'Soyo', 'Soundwave', 'Softlogic', 'Sparc', 'Stern-Radio Staßfurt', 'Stromberg Carlson', 'Stewart-Warner', 'SunLite TV', 'Sunkai', 'Susumu', 'Supersonic', 'Supra', 'Sylvania', 'Symphonic Electronic Corp', 'Symphonic Radio and Electronics', 'Sysline', 'Tandy', 'Technika TV', 'Tatung Company', 'TCL', 'Tec', 'Tech-Master', 'Technema', 'Technics', 'Technisat', 'Tecnimagen', 'Technika', 'TECO', 'Teleavia', 'Telebalt', 'Telefunken', 'Telemeister', 'Telequip', 'Teletech', 'Teleton', 'Teletronics', 'Television, Inc.', 'Temp', 'Tensai', 'Texet', 'Thomson SA']\n",
    "    for i in range(0,len(title_list)):\n",
    "        for j in range(0,len(brands_list)):\n",
    "            if brands_list[j] in title_list[i]:\n",
    "                df_title['brand'].values[i] = brands_list[j]\n",
    "\n",
    "    brands_list = df_title.brand\n",
    "    dist_brands = brands_list[None, :] == brands_list[:, None]\n",
    "    dist_brands = np.where(dist_brands == 0,1000.5,dist_brands)\n",
    "\n",
    "    df_dist_brands = pd.DataFrame(dist_brands)\n",
    "    df_dist_brands\n",
    "    dist = np.where(dist_brands == 1000.5,1000.5,dist)\n",
    "    df_dist = pd.DataFrame(dist)\n",
    "    df_dist\n",
    "\n",
    "    modelIDs = get_product_modelIDs(products_totrain)\n",
    "\n",
    "#     alpha = 0.612\n",
    "#     beta = 0.24\n",
    "#     mu = 0.65\n",
    "#     gamma = 0.756\n",
    "    qgram = QGram(3)\n",
    "    n = len(dist)\n",
    "    for i in range(0,n):\n",
    "        print(i)\n",
    "        for j in range(0,n):\n",
    "                if (lsh_arr[i,j] == 1) | (lsh_arr[j,i] == 1):\n",
    "                    if (dist[i,j] != 1000.5):\n",
    "                        titleSim = calcQgramSim(i,j,title_list,qgram)\n",
    "                        dist[i,j] = dist[j,i] = (1-titleSim)\n",
    "                else:\n",
    "                    dist[i,j] = dist[j,i] = 1000.5\n",
    "\n",
    "    clust = AgglomerativeClustering(distance_threshold=0.5, affinity='precomputed', n_clusters=None,linkage='complete').fit_predict(dist)\n",
    "\n",
    "    df_dist = pd.DataFrame(data=clust,columns=['Cluster'])\n",
    "    df_dist['modelID']= modelIDs\n",
    "\n",
    "    grouped_df = df_dist.groupby(\"Cluster\")\n",
    "    cluster = grouped_df['modelID'].apply(list)\n",
    "    cluster = cluster.reset_index()\n",
    "\n",
    "    correctpositives = 0\n",
    "    false_positives = 0\n",
    "    for i in range(0,len(cluster.modelID)):\n",
    "        for q in range(0,len(cluster.modelID[i])):\n",
    "            for r in range(0,len(cluster.modelID[i])):\n",
    "                if r > q:\n",
    "                        #print(cluster.modelID[i][q], cluster.modelID[i][r], cluster.modelID[i][q] == cluster.modelID[i][r])\n",
    "                        if cluster.modelID[i][q] == cluster.modelID[i][r]:\n",
    "                            correctpositives = correctpositives + 1\n",
    "                        else:\n",
    "                            false_positives = false_positives + 1\n",
    "    print(correctpositives,false_positives)\n",
    "    cluster\n",
    "\n",
    "    grouped_df = df_dist.groupby(\"modelID\")\n",
    "    cluster_modelID = grouped_df['Cluster'].apply(list)\n",
    "    cluster_modelID = cluster_modelID.reset_index()\n",
    "    cluster_modelID\n",
    "\n",
    "    correct_negatives = 0\n",
    "    false_negatives = 0\n",
    "    for i in range(0,len(cluster_modelID.Cluster)):\n",
    "        for q in range(0,len(cluster_modelID.Cluster[i])):\n",
    "            for r in range(0,len(cluster_modelID.Cluster[i])):\n",
    "                if r > q:\n",
    "                        if cluster_modelID.Cluster[i][q] == cluster_modelID.Cluster[i][r]:\n",
    "                            correct_negatives = correct_negatives + 1\n",
    "                        else:\n",
    "                            false_negatives = false_negatives + 1\n",
    "    print(correct_negatives,false_negatives)\n",
    "\n",
    "    F1 = F1_score(precision(correctpositives,false_positives),recall(correctpositives,false_negatives))\n",
    "    return F1"
   ]
  },
  {
   "cell_type": "markdown",
   "metadata": {},
   "source": [
    "### Evaluation"
   ]
  },
  {
   "cell_type": "code",
   "execution_count": 19,
   "metadata": {},
   "outputs": [],
   "source": [
    "def TP(duplicates):\n",
    "    return duplicates"
   ]
  },
  {
   "cell_type": "code",
   "execution_count": 20,
   "metadata": {},
   "outputs": [],
   "source": [
    "def FP(number_comp_made, duplicates):\n",
    "    return (number_comp_made - duplicates)"
   ]
  },
  {
   "cell_type": "code",
   "execution_count": 21,
   "metadata": {},
   "outputs": [],
   "source": [
    "def TN(predicted_non_duplicates, duplicates, total_duplicates):\n",
    "    return (predicted_non_duplicates - (total_duplicates - duplicates))"
   ]
  },
  {
   "cell_type": "code",
   "execution_count": 22,
   "metadata": {},
   "outputs": [],
   "source": [
    "def FN(total_duplicates, duplicates):\n",
    "    return (total_duplicates - duplicates)"
   ]
  },
  {
   "cell_type": "code",
   "execution_count": 23,
   "metadata": {},
   "outputs": [],
   "source": [
    "def precision(TP, FP):\n",
    "    return (TP / (TP + FP)) if (TP + FP) != 0 else 0"
   ]
  },
  {
   "cell_type": "code",
   "execution_count": 24,
   "metadata": {},
   "outputs": [],
   "source": [
    "def recall(TP, FN):\n",
    "    return (TP / (TP + FN)) if (TP+ FN) != 0 else 0"
   ]
  },
  {
   "cell_type": "code",
   "execution_count": 25,
   "metadata": {},
   "outputs": [],
   "source": [
    "def F1_score(precision, recall):\n",
    "    return (2 * ((precision*recall)/(precision+recall))) if (recall+ precision) != 0 else 0"
   ]
  },
  {
   "cell_type": "code",
   "execution_count": 26,
   "metadata": {},
   "outputs": [],
   "source": [
    "def calcAvgList(value_list):\n",
    "    avgList = np.zeros(len(value_list[0]))\n",
    "    for i in range(0,len(value_list[0])):\n",
    "        col_values = []\n",
    "        for j in range(0,len(value_list)):\n",
    "            col_values.append(value_list[j][i])\n",
    "        avgList[i] = np.average(col_values)\n",
    "    return avgList"
   ]
  },
  {
   "cell_type": "markdown",
   "metadata": {},
   "source": [
    "### Code to run"
   ]
  },
  {
   "cell_type": "code",
   "execution_count": 27,
   "metadata": {},
   "outputs": [],
   "source": [
    "# repeats = 0\n",
    "# while repeats <= 2:\n",
    "# print(repeats)"
   ]
  },
  {
   "cell_type": "markdown",
   "metadata": {},
   "source": [
    "### train"
   ]
  },
  {
   "cell_type": "code",
   "execution_count": null,
   "metadata": {},
   "outputs": [],
   "source": [
    "duplicate_list2 = []\n",
    "number_p_comp_list2 = []\n",
    "number_comp_made_list2 = []\n",
    "fraction_comp_list2 = []\n",
    "total_duplicates_list2 = []\n",
    "predicted_non_duplicates_list2 = []\n",
    "PQ_list2 = []\n",
    "PC_list2 = []\n",
    "TP_list2 = []\n",
    "FP_list2 = []\n",
    "TN_list2 = []\n",
    "FN_list2 = []\n",
    "precision_list2 = []\n",
    "recall_list2 = []\n",
    "F1_star_list2 = []\n",
    "F1_score_list2 = []\n",
    "F1_MSM_list2 = []\n",
    "F1_MSM_list_benchmarklist = []\n",
    "r_wolfram = [0,2,2.58,3.05,3.5,4,4.5,5,5.65,6.33,7.13] #r values based on threshold t [0,0.05,0.1,...,0.5] and n =1000\n",
    "\n",
    "repeats = 0\n",
    "while repeats <= 4:   \n",
    "    train_and_test_split = bootstrap()\n",
    "\n",
    "    #Create train and test data\n",
    "    train_data = train_and_test_split[0]\n",
    "    train_data = unique_values(train_data)\n",
    "\n",
    "    #Assign train and test data\n",
    "    products_totrain = products_train(train_data)\n",
    "\n",
    "    #Get product titles\n",
    "    product_titles_totrain = get_product_titles(products_totrain)\n",
    "\n",
    "    #Clean titles wrt inch and hz\n",
    "    cleaned_product_titles_totrain = title_cleaning(product_titles_totrain)\n",
    "\n",
    "    #Get first model word from titles\n",
    "    unique_title_mw_train = model_words_unique(cleaned_product_titles_totrain)\n",
    "\n",
    "    #Check if model word in title and create binary vector\n",
    "    df_binary_vector_train = model_word_in_title_KV(unique_title_mw_train, cleaned_product_titles_totrain, extract_featuresM_MW(get_features_map(products_totrain)))\n",
    "\n",
    "    #Minhashing\n",
    "    df_minhash_train = minhash(df_binary_vector_train, round(0.5*len(unique_title_mw_train))) #n is equal to 50% of data\n",
    "\n",
    "    #print(repeats)\n",
    "    #Signature matrix\n",
    "    #df_signature_train = buckets(df_minhash_train,2)\n",
    "\n",
    "    #LSH\n",
    "    #df_final_lsh_train = lsh(df_signature_train)\n",
    "\n",
    "    #LSH + LSH evaluation\n",
    "    duplicate_list = []\n",
    "    number_p_comp_list = []\n",
    "    number_comp_made_list = []\n",
    "    fraction_comp_list = []\n",
    "    total_duplicates_list = []\n",
    "    predicted_non_duplicates_list = []\n",
    "    PQ_list = []\n",
    "    PC_list = []\n",
    "    TP_list = []\n",
    "    FP_list = []\n",
    "    TN_list = []\n",
    "    FN_list = []\n",
    "    precision_list = []\n",
    "    recall_list = []\n",
    "    F1_star_list = []\n",
    "    F1_score_list = []\n",
    "    F1_MSM_list = []\n",
    "    F1_MSM_list_benchmarklist2 = []\n",
    "\n",
    "    r_list = [1,2,3,4,5,10,20]\n",
    "    x = 0\n",
    "    for r in r_list:\n",
    "        print(r)\n",
    "        df_signature = buckets(df_minhash_train,r)    #Create signature\n",
    "        final_lsh = lsh(df_signature)                 #Create lsh\n",
    "        lsh_arr = final_lsh.to_numpy()                #lsh dataframe to numpy array\n",
    "\n",
    "\n",
    "        duplicates = 0\n",
    "        predicted_non_duplicates = 0\n",
    "        for i in range(0,len(final_lsh)):\n",
    "            for j in range(0,len(final_lsh)):\n",
    "                if j > i:\n",
    "                    if lsh_arr[i,j] == 1.0:\n",
    "                        if products[train_data[i]]['modelID'] == products[train_data[j]]['modelID']:\n",
    "                            duplicates = duplicates + 1\n",
    "                    else:\n",
    "                        predicted_non_duplicates = predicted_non_duplicates + 1\n",
    "\n",
    "\n",
    "        total_duplicates = 0\n",
    "        for i in range(0,len(final_lsh)):\n",
    "            for j in range(0,len(final_lsh)):\n",
    "                if j > i:\n",
    "                    if products[train_data[i]]['modelID'] == products[train_data[j]]['modelID']: #!\n",
    "                        total_duplicates = total_duplicates + 1\n",
    "\n",
    "        total_duplicates_list.append(total_duplicates)\n",
    "        predicted_non_duplicates_list.append(predicted_non_duplicates)\n",
    "        duplicate_list.append(duplicates)\n",
    "        number_p_comp_list.append(((len(final_lsh)*len(final_lsh)) - len(final_lsh))/2)\n",
    "        number_comp_made_list.append(final_lsh.to_numpy().sum())\n",
    "        fraction_comp_list.append(number_comp_made_list[x] / number_p_comp_list[x])\n",
    "        PQ_list.append(2*duplicates / number_comp_made_list[x])\n",
    "        PC_list.append(duplicates / total_duplicates) #!\n",
    "        TP_list.append(TP(duplicates))\n",
    "        FP_list.append(FP(number_comp_made_list[x], duplicate_list[x]))\n",
    "        TN_list.append(TN(predicted_non_duplicates_list[x], duplicate_list[x], total_duplicates_list[x]))\n",
    "        FN_list.append(FN(total_duplicates_list[x], duplicate_list[x]))\n",
    "        precision_list.append(precision(TP(duplicate_list[x]),FP(number_comp_made_list[x], duplicate_list[x])))\n",
    "        recall_list.append(recall(TP(duplicate_list[x]),FN(total_duplicates_list[x], duplicate_list[x])))\n",
    "        F1_star_list.append((2 * PQ_list[x] * PC_list[x]) / (PQ_list[x] + PC_list[x]))\n",
    "        F1_score_list.append(F1_score(precision_list[x], recall_list[x]))\n",
    "        F1_MSM_list.append(MSM_LT(products_totrain,lsh_arr))\n",
    "        lsh_arr_benchmark = np.ones((len(products_totrain), len(products_totrain)))\n",
    "        F1_MSM_list_benchmarklist.append(MSM_LT(products_totrain,lsh_arr_benchmark))\n",
    "        x = x + 1\n",
    "\n",
    "        if r == 20:\n",
    "            duplicate_list2.append(duplicate_list)\n",
    "            number_p_comp_list2.append(number_p_comp_list)\n",
    "            number_comp_made_list2.append(number_comp_made_list)\n",
    "            fraction_comp_list2.append(fraction_comp_list)\n",
    "            total_duplicates_list2.append(total_duplicates_list)\n",
    "            predicted_non_duplicates_list2.append(predicted_non_duplicates_list)\n",
    "            PQ_list2.append(PQ_list)\n",
    "            PC_list2.append(PC_list)\n",
    "            TP_list2.append(TP_list)\n",
    "            FP_list2.append(FP_list)\n",
    "            TN_list2.append(TN_list)\n",
    "            FN_list2.append(FN_list)\n",
    "            precision_list2.append(precision_list)\n",
    "            recall_list2.append(recall_list)\n",
    "            F1_star_list2.append(F1_star_list)\n",
    "            F1_score_list2.append(F1_score_list)\n",
    "            F1_MSM_list2.append(F1_MSM_list)\n",
    "            F1_MSM_list_benchmarklist2.append(F1_MSM_list_benchmarklist)\n",
    "    repeats = repeats + 1\n"
   ]
  },
  {
   "cell_type": "code",
   "execution_count": 29,
   "metadata": {},
   "outputs": [
    {
     "name": "stdout",
     "output_type": "stream",
     "text": [
      "duplicate_list---------------------------------------------------------------\n",
      "[168, 168, 161, 151, 121, 17, 1]\n",
      "\n",
      "number_p_comp_list--------------------------------------------------------------\n",
      "[517653.0, 517653.0, 517653.0, 517653.0, 517653.0, 517653.0, 517653.0]\n",
      "\n",
      "number_comp_made_list---------------------------------------------------------------\n",
      "[498245.0, 478458.0, 305034.0, 137449.0, 47251.0, 750.0, 24.0]\n",
      "\n",
      "fraction_comp_list---------------------------------------------------------------\n",
      "[0.9625077030365902, 0.9242832553853644, 0.5892634641352412, 0.2655234297879081, 0.09127929327174768, 0.0014488470075513906, 4.63631042416445e-05]\n",
      "\n",
      "total_duplicates_list---------------------------------------------------------------\n",
      "[168, 168, 168, 168, 168, 168, 168]\n",
      "\n",
      "predicted_non_duplicates_list--------------------------------------------------------------\n",
      "[19408, 39195, 212619, 380204, 470402, 516903, 517629]\n",
      "\n",
      "PQ_list---------------------------------------------------------------\n",
      "[0.000674367028269225, 0.0007022559973916206, 0.001055620029242642, 0.0021971785898769725, 0.005121584728365537, 0.04533333333333334, 0.08333333333333333]\n",
      "\n",
      "PC_list---------------------------------------------------------------\n",
      "[1.0, 1.0, 0.9583333333333334, 0.8988095238095238, 0.7202380952380952, 0.10119047619047619, 0.005952380952380952]\n",
      "\n",
      "TP_list---------------------------------------------------------------\n",
      "[168, 168, 161, 151, 121, 17, 1]\n",
      "\n",
      "FP_list---------------------------------------------------------------\n",
      "[498077.0, 478290.0, 304873.0, 137298.0, 47130.0, 733.0, 23.0]\n",
      "\n",
      "TN_list---------------------------------------------------------------\n",
      "[19408, 39195, 212612, 380187, 470355, 516752, 517462]\n",
      "\n",
      "FN_list---------------------------------------------------------------\n",
      "[0, 0, 7, 17, 47, 151, 167]\n",
      "\n",
      "precision_list---------------------------------------------------------------\n",
      "[0.0003371835141346125, 0.0003511279986958103, 0.000527810014621321, 0.0010985892949384863, 0.0025607923641827687, 0.02266666666666667, 0.041666666666666664]\n",
      "\n",
      "recall_list---------------------------------------------------------------\n",
      "[1.0, 1.0, 0.9583333333333334, 0.8988095238095238, 0.7202380952380952, 0.10119047619047619, 0.005952380952380952]\n",
      "\n",
      "F1_star_list---------------------------------------------------------------\n",
      "[0.001347825127712448, 0.0014035263599794484, 0.0021089170514457874, 0.00438364118009943, 0.010170844978670645, 0.06261510128913444, 0.011111111111111112]\n",
      "\n",
      "F1_score_list---------------------------------------------------------------\n",
      "[0.0006741397194695966, 0.0007020095022000477, 0.0010550389578049947, 0.002194496319495411, 0.00510343954954765, 0.03703703703703704, 0.010416666666666666]\n",
      "\n",
      "[0.302405498281787, 0.302405498281787, 0.3044982698961938, 0.29965156794425085, 0.30036630036630035, 0.10869565217391304, 0]\n",
      "\n"
     ]
    }
   ],
   "source": [
    "print('duplicate_list---------------------------------------------------------------')\n",
    "print(duplicate_list)\n",
    "print()\n",
    "print('number_p_comp_list--------------------------------------------------------------')\n",
    "print(number_p_comp_list)\n",
    "print()\n",
    "print('number_comp_made_list---------------------------------------------------------------')\n",
    "print(number_comp_made_list)\n",
    "print()\n",
    "print('fraction_comp_list---------------------------------------------------------------')\n",
    "print(fraction_comp_list)\n",
    "print()\n",
    "print('total_duplicates_list---------------------------------------------------------------')\n",
    "print(total_duplicates_list)\n",
    "print()\n",
    "print('predicted_non_duplicates_list--------------------------------------------------------------')\n",
    "print(predicted_non_duplicates_list)\n",
    "print()\n",
    "print('PQ_list---------------------------------------------------------------')\n",
    "print(PQ_list)\n",
    "print()\n",
    "print('PC_list---------------------------------------------------------------')\n",
    "print(PC_list)\n",
    "print()\n",
    "print('TP_list---------------------------------------------------------------')\n",
    "print(TP_list)\n",
    "print()\n",
    "print('FP_list---------------------------------------------------------------')\n",
    "print(FP_list)\n",
    "print()\n",
    "print('TN_list---------------------------------------------------------------')\n",
    "print(TN_list)\n",
    "print()\n",
    "print('FN_list---------------------------------------------------------------')\n",
    "print(FN_list)\n",
    "print()\n",
    "print('precision_list---------------------------------------------------------------')\n",
    "print(precision_list)\n",
    "print()\n",
    "print('recall_list---------------------------------------------------------------')\n",
    "print(recall_list)\n",
    "print()\n",
    "print('F1_star_list---------------------------------------------------------------')\n",
    "print(F1_star_list)\n",
    "print()\n",
    "print('F1_score_list---------------------------------------------------------------')\n",
    "print(F1_score_list)\n",
    "print()\n",
    "print(F1_MSM_list)\n",
    "print()"
   ]
  },
  {
   "cell_type": "code",
   "execution_count": 30,
   "metadata": {},
   "outputs": [
    {
     "data": {
      "text/plain": [
       "[[0.0006232292451279149,\n",
       "  0.0006591304734619109,\n",
       "  0.0008113448040126509,\n",
       "  0.0022111147443982498,\n",
       "  0.0048779425535158205,\n",
       "  0.05360824742268041,\n",
       "  0.11764705882352941],\n",
       " [0.0006384077723244427,\n",
       "  0.0006574844644390562,\n",
       "  0.0008506290107291603,\n",
       "  0.001719996441386673,\n",
       "  0.00334372343440068,\n",
       "  0.0061406640485540875,\n",
       "  0.15789473684210525],\n",
       " [0.0006234254069527715,\n",
       "  0.0006389039965871205,\n",
       "  0.0008842627242805251,\n",
       "  0.0011571386701279324,\n",
       "  0.0036451523435952296,\n",
       "  0.031777557100297914,\n",
       "  0.12658227848101267],\n",
       " [0.0005847458279154581,\n",
       "  0.0006034799352847175,\n",
       "  0.0008440646778627157,\n",
       "  0.0017527026162604746,\n",
       "  0.003650930480198773,\n",
       "  0.04108309990662932,\n",
       "  0.04878048780487805],\n",
       " [0.000674367028269225,\n",
       "  0.0007022559973916206,\n",
       "  0.001055620029242642,\n",
       "  0.0021971785898769725,\n",
       "  0.005121584728365537,\n",
       "  0.04533333333333334,\n",
       "  0.08333333333333333]]"
      ]
     },
     "execution_count": 30,
     "metadata": {},
     "output_type": "execute_result"
    }
   ],
   "source": [
    "PQ_list2"
   ]
  },
  {
   "cell_type": "code",
   "execution_count": 39,
   "metadata": {},
   "outputs": [
    {
     "data": {
      "text/plain": [
       "Text(0.5, 0, 'Fraction of comparisons')"
      ]
     },
     "execution_count": 39,
     "metadata": {},
     "output_type": "execute_result"
    },
    {
     "data": {
      "image/png": "[encoded data removed]",
      "text/plain": [
       "<Figure size 432x288 with 1 Axes>"
      ]
     },
     "metadata": {
      "needs_background": "light"
     },
     "output_type": "display_data"
    }
   ],
   "source": [
    "plt.plot(calcAvgList(fraction_comp_list2), calcAvgList(PQ_list2))\n",
    "plt.ylabel('PQ')\n",
    "plt.xlabel('Fraction of comparisons')"
   ]
  },
  {
   "cell_type": "code",
   "execution_count": 38,
   "metadata": {},
   "outputs": [
    {
     "data": {
      "text/plain": [
       "<function matplotlib.pyplot.show(close=None, block=None)>"
      ]
     },
     "execution_count": 38,
     "metadata": {},
     "output_type": "execute_result"
    },
    {
     "data": {
      "image/png": "[encoded data removed]",
      "text/plain": [
       "<Figure size 432x288 with 1 Axes>"
      ]
     },
     "metadata": {
      "needs_background": "light"
     },
     "output_type": "display_data"
    }
   ],
   "source": [
    "plt.plot(calcAvgList(fraction_comp_list2), calcAvgList(PC_list2))\n",
    "plt.ylabel('PC')\n",
    "plt.xlabel('Fraction of comparisons')\n",
    "plt.show"
   ]
  },
  {
   "cell_type": "code",
   "execution_count": 41,
   "metadata": {},
   "outputs": [
    {
     "data": {
      "text/plain": [
       "<function matplotlib.pyplot.show(close=None, block=None)>"
      ]
     },
     "execution_count": 41,
     "metadata": {},
     "output_type": "execute_result"
    },
    {
     "data": {
      "image/png": "[encoded data removed]",
      "text/plain": [
       "<Figure size 432x288 with 1 Axes>"
      ]
     },
     "metadata": {
      "needs_background": "light"
     },
     "output_type": "display_data"
    }
   ],
   "source": [
    "plt.plot(calcAvgList(fraction_comp_list2), calcAvgList(F1_star_list2))\n",
    "plt.ylabel('F1*')\n",
    "plt.xlabel('Fraction of comparisons')\n",
    "plt.show\n"
   ]
  },
  {
   "cell_type": "code",
   "execution_count": 52,
   "metadata": {},
   "outputs": [
    {
     "data": {
      "text/plain": [
       "<function matplotlib.pyplot.show(close=None, block=None)>"
      ]
     },
     "execution_count": 52,
     "metadata": {},
     "output_type": "execute_result"
    },
    {
     "data": {
      "image/png": "[encoded data removed]",
      "text/plain": [
       "<Figure size 432x288 with 1 Axes>"
      ]
     },
     "metadata": {
      "needs_background": "light"
     },
     "output_type": "display_data"
    }
   ],
   "source": [
    "plt.plot(calcAvgList(fraction_comp_list2), calcAvgList(F1_MSM_list2))\n",
    "list = [np.average(F1_MSM_list_benchmarklist), np.average(F1_MSM_list_benchmarklist), np.average(F1_MSM_list_benchmarklist), np.average(F1_MSM_list_benchmarklist), np.average(F1_MSM_list_benchmarklist), np.average(F1_MSM_list_benchmarklist), np.average(F1_MSM_list_benchmarklist)]\n",
    "# plt.plot(calcAvgList(fraction_comp_list2), list)\n",
    "plt.ylabel('F1')\n",
    "plt.xlabel('Fraction of comparisons')\n",
    "# plt.legend(['TSQS with LSH', 'TSQS without LSH'])\n",
    "plt.show"
   ]
  }
 ],
 "metadata": {
  "kernelspec": {
   "display_name": "Python 3",
   "language": "python",
   "name": "python3"
  },
  "language_info": {
   "codemirror_mode": {
    "name": "ipython",
    "version": 3
   },
   "file_extension": ".py",
   "mimetype": "text/x-python",
   "name": "python",
   "nbconvert_exporter": "python",
   "pygments_lexer": "ipython3",
   "version": "3.7.9"
  }
 },
 "nbformat": 4,
 "nbformat_minor": 4
}
